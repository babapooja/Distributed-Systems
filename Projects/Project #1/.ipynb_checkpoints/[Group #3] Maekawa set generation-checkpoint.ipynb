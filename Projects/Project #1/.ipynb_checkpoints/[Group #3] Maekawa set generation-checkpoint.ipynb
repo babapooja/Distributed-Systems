{
 "cells": [
  {
   "cell_type": "code",
   "execution_count": 10,
   "id": "772765af",
   "metadata": {},
   "outputs": [],
   "source": [
    "from itertools import combinations\n",
    "import pprint\n",
    "import itertools\n",
    "\n",
    "MaekawaSets = []"
   ]
  },
  {
   "cell_type": "code",
   "execution_count": 11,
   "id": "5c568993",
   "metadata": {},
   "outputs": [],
   "source": [
    "# check if N - number of nodes can be expressed in the form - (k^2-k+1)\n",
    "def findK(N):\n",
    "    for i in range(round(N/2)+1):\n",
    "        if (pow(i,2) - i + 1) == N:\n",
    "            return i\n",
    "    return N"
   ]
  },
  {
   "cell_type": "code",
   "execution_count": 12,
   "id": "d7ac36e8",
   "metadata": {},
   "outputs": [],
   "source": [
    "#Set creation for all possible combinations\n",
    "def createSets(N, K): \n",
    "    print('************ Creating Sets ************')\n",
    "    print('Received N and K as: {} and {}'.format(N, K))\n",
    "    print('Starting to create sets...')\n",
    "    \n",
    "    L=list(range(1,N+1))\n",
    "    A=[\",\".join(map(str, comb)) for comb in combinations(L, K)]\n",
    "\n",
    "    # Converting each element in the A list to list and storing in myList\n",
    "    myList=[]\n",
    "    finalList=[]\n",
    "    for i in range(len(A)):\n",
    "        myList.append(A[i].split(','))\n",
    "\n",
    "    # filter for repetative couplings\n",
    "    couplingsTemp = []\n",
    "    couplings = []\n",
    "    for List in myList:\n",
    "        couplingsTemp.append([\",\".join(map(str, comb)) for comb in combinations(List, 2)])\n",
    "    for couple in couplingsTemp:\n",
    "        for i in range(len(couple)):\n",
    "            if str(couple[i]) not in str(couplings):\n",
    "                couplings.append(couple[i])\n",
    "            else:\n",
    "                continue\n",
    "\n",
    "    # Preparing Final Set\n",
    "    finalList = []\n",
    "    for j in myList:\n",
    "        counter=0\n",
    "        p=[\",\".join(map(str, comb)) for comb in combinations(j, 2)]\n",
    "        for i in p:\n",
    "            if i in couplings:\n",
    "                counter=counter+1\n",
    "        if counter==len(p):\n",
    "            couplings=list(set(couplings)^set(p))\n",
    "            finalList.append(j)\n",
    "    return finalList"
   ]
  },
  {
   "cell_type": "code",
   "execution_count": 13,
   "id": "0b97aced",
   "metadata": {},
   "outputs": [],
   "source": [
    "# If N = K^2-K+1 then execute this function\n",
    "def optimalSets(N, K):\n",
    "    print('{} can be expressed as k*k - k + 1'.format(N))\n",
    "    print('Sets created are as follows:-')\n",
    "    MaekawaSets = createSets(N,K)\n",
    "    pprint.pprint(MaekawaSets)\n",
    "    print('Set creation complete...')"
   ]
  },
  {
   "cell_type": "code",
   "execution_count": 14,
   "id": "9c2be916",
   "metadata": {},
   "outputs": [],
   "source": [
    "# create the degenerate sets\n",
    "# once the sets are created with a new N greater than the original entered by the user\n",
    "# we need to perform filtering on it\n",
    "'''\n",
    "Algorithm to do it:-\n",
    "1. for element in subset:\n",
    "       for el in element:\n",
    "            if el == newN:\n",
    "                el=N\n",
    "            if el > N:\n",
    "                # perform relevant replacements\n",
    "                #  eg. N=5, newN=7, el=6 then el should be replaced by 4 i.e. N-1\n",
    "                el = N - (newN-el)\n",
    "2. After the replacements have been done, we need to delete the redundant lists.\n",
    "3. Make the lists free of the duplicates if any\n",
    "'''\n",
    "def degenerateSetCreation(N, newN, setsGenerated):\n",
    "    print('******* Degenerate sets creation *******')\n",
    "    print('Starting degenerate sets creation...')\n",
    "    # Step 1\n",
    "    for i in range(len(setsGenerated)):\n",
    "        subset = setsGenerated[i]\n",
    "        for j in range(len(subset)):\n",
    "            element = subset[j]\n",
    "            if element == newN:\n",
    "                subset[j] = str(N)\n",
    "            if int(element) > N:\n",
    "                subset[j] = str(N - (newN - int(element)))\n",
    "    # Step 2 and 3\n",
    "    for subset in setsGenerated:\n",
    "        subset.sort()\n",
    "    deleteDuplicateSets = list(setsGenerated for setsGenerated,_ in itertools.groupby(setsGenerated))\n",
    "    for i in range(len(deleteDuplicateSets)):\n",
    "        subset = deleteDuplicateSets[i]\n",
    "        deleteDuplicateSets[i] = list(subset for subset,_ in itertools.groupby(subset))\n",
    "    return deleteDuplicateSets"
   ]
  },
  {
   "cell_type": "code",
   "execution_count": 15,
   "id": "bb742226",
   "metadata": {},
   "outputs": [],
   "source": [
    "# If N != K^2-K+1 then execute this function\n",
    "# find the nearest possible number such that M > N and can be expressed as M=L^2-L+1 \n",
    "# here L=K\n",
    "def nonOptimalSets(K):\n",
    "    print('{} cannot be expressed as k*k - k + 1'.format(K))\n",
    "    print('Finding new temporary N...')\n",
    "    newN = K\n",
    "    foundTempN = False\n",
    "    newK=0\n",
    "    while foundTempN == False:\n",
    "        newN+=1\n",
    "        newK = findK(newN)\n",
    "        if newK != newN:\n",
    "            foundTempN = True\n",
    "    print('Temporary N found is: {}'.format(newN))\n",
    "    print('Therefore we will create sets of size {} from {} different nodes.'.format(newK, newN))\n",
    "    # create sets for the new N found\n",
    "    tempSets = createSets(newN, newK)\n",
    "    print('Set creation with new value of \\'N\\' complete...')\n",
    "    \n",
    "    # degenerate sets creation\n",
    "    MaekawaSets = degenerateSetCreation(N=K, newN=newN, setsGenerated=tempSets)\n",
    "    pprint.pprint(MaekawaSets)\n",
    "    print('Final degenerate set creation completed...')"
   ]
  },
  {
   "cell_type": "code",
   "execution_count": 16,
   "id": "52120445",
   "metadata": {},
   "outputs": [],
   "source": [
    "# entry point\n",
    "def setGenerationAlgorithm():\n",
    "    numberOfNodes = int(input('Enter number of nodes: '))\n",
    "    subsetSize = findK(numberOfNodes)\n",
    "    if(subsetSize==numberOfNodes):  \n",
    "        nonOptimalSets(K=subsetSize)\n",
    "    else:\n",
    "        optimalSets(N=numberOfNodes, K=subsetSize)"
   ]
  },
  {
   "cell_type": "code",
   "execution_count": 19,
   "id": "f95822e9",
   "metadata": {
    "scrolled": false
   },
   "outputs": [
    {
     "name": "stdout",
     "output_type": "stream",
     "text": [
      "Enter number of nodes: 10\n",
      "5\n",
      "10 cannot be expressed as k*k - k + 1\n",
      "Finding new temporary N...\n",
      "6\n",
      "6\n",
      "6\n",
      "Temporary N found is: 13\n",
      "Therefore we will create sets of size 4 from 13 different nodes.\n",
      "************ Creating Sets ************\n",
      "Received N and K as: 13 and 4\n",
      "Starting to create sets...\n",
      "Set creation with new value of 'N' complete...\n",
      "******* Degenerate sets creation *******\n",
      "Starting degenerate sets creation...\n",
      "[['1', '2', '3', '4'],\n",
      " ['1', '5', '6', '7'],\n",
      " ['1', '10', '8', '9'],\n",
      " ['2', '5', '8'],\n",
      " ['2', '6', '9'],\n",
      " ['10', '2', '7'],\n",
      " ['10', '3', '5', '9'],\n",
      " ['10', '3', '6', '8'],\n",
      " ['3', '7', '8', '9'],\n",
      " ['10', '4', '5', '9'],\n",
      " ['10', '4', '6', '8'],\n",
      " ['4', '7', '8', '9']]\n",
      "Final degenerate set creation completed...\n"
     ]
    }
   ],
   "source": [
    "setGenerationAlgorithm()"
   ]
  },
  {
   "cell_type": "code",
   "execution_count": null,
   "id": "e3ac3399",
   "metadata": {},
   "outputs": [],
   "source": []
  },
  {
   "cell_type": "code",
   "execution_count": null,
   "id": "fb870fd9",
   "metadata": {},
   "outputs": [],
   "source": []
  }
 ],
 "metadata": {
  "kernelspec": {
   "display_name": "Python 3 (ipykernel)",
   "language": "python",
   "name": "python3"
  },
  "language_info": {
   "codemirror_mode": {
    "name": "ipython",
    "version": 3
   },
   "file_extension": ".py",
   "mimetype": "text/x-python",
   "name": "python",
   "nbconvert_exporter": "python",
   "pygments_lexer": "ipython3",
   "version": "3.9.12"
  }
 },
 "nbformat": 4,
 "nbformat_minor": 5
}
